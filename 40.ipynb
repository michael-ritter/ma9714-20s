{
 "cells": [
  {
   "cell_type": "markdown",
   "metadata": {},
   "source": [
    "# Newton's Method for Optimization"
   ]
  },
  {
   "cell_type": "markdown",
   "metadata": {},
   "source": [
    "## Example 1: Quadratic Function Minimization"
   ]
  },
  {
   "cell_type": "code",
   "execution_count": 1,
   "metadata": {},
   "outputs": [],
   "source": [
    "%matplotlib widget"
   ]
  },
  {
   "cell_type": "code",
   "execution_count": 2,
   "metadata": {},
   "outputs": [],
   "source": [
    "import matplotlib.pyplot as plt\n",
    "import matplotlib\n",
    "import numpy as np\n",
    "from matplotlib import cm\n",
    "from mpl_toolkits.mplot3d import Axes3D"
   ]
  },
  {
   "cell_type": "markdown",
   "metadata": {},
   "source": [
    "$f: (x_1,x_2) \\mapsto (x_1-2)^2 + 2(x_2+1)^2+1$\n",
    "\n",
    "$\\nabla f(x_1, x_2) = \\begin{pmatrix} 2(x_1-2) \\\\ 4(x_2+1) \\end{pmatrix} = \\begin{pmatrix} 2x_1-4 \\\\ 4x_2+4 \\end{pmatrix}$\n",
    "\n",
    "$H_f(x_1, x_2) = \\begin{pmatrix} 2 & 0 \\\\ 0 & 4 \\end{pmatrix}$"
   ]
  },
  {
   "cell_type": "code",
   "execution_count": 3,
   "metadata": {},
   "outputs": [],
   "source": [
    "def f(x_1,x_2):\n",
    "    return (x_1-2)**2 + 2*(x_2+1)**2 +1\n",
    "def grad_f(x_1,x_2):\n",
    "    return np.array([(2*x_1-4), (4*x_2+4)])\n",
    "def hessian_f(x_1,x_2):\n",
    "    return np.array([(2,0), (0,4)])"
   ]
  },
  {
   "cell_type": "code",
   "execution_count": 4,
   "metadata": {},
   "outputs": [],
   "source": [
    "x_1 = np.arange(-4,4,0.1)\n",
    "x_2 = np.arange(-4,4,0.1)\n",
    "X_1,X_2 = np.meshgrid(x_1,x_2)"
   ]
  },
  {
   "cell_type": "code",
   "execution_count": 5,
   "metadata": {
    "slideshow": {
     "slide_type": "slide"
    }
   },
   "outputs": [
    {
     "data": {
      "application/vnd.jupyter.widget-view+json": {
       "model_id": "483d54acc7644ea4924744d19f85faaf",
       "version_major": 2,
       "version_minor": 0
      },
      "text/plain": [
       "Canvas(toolbar=Toolbar(toolitems=[('Home', 'Reset original view', 'home', 'home'), ('Back', 'Back to previous …"
      ]
     },
     "metadata": {},
     "output_type": "display_data"
    }
   ],
   "source": [
    "X_3 = f(X_1, X_2)\n",
    "fig=plt.figure()\n",
    "ax = Axes3D(fig)\n",
    "ax.plot_surface(X_1,X_2,X_3,cmap=cm.viridis)\n",
    "ax.set_xlabel(\"x1\")\n",
    "ax.set_ylabel(\"x2\")\n",
    "plt.show()"
   ]
  },
  {
   "cell_type": "code",
   "execution_count": 6,
   "metadata": {},
   "outputs": [
    {
     "data": {
      "application/vnd.jupyter.widget-view+json": {
       "model_id": "a7ce60a47113438b9f6390ae48b456dc",
       "version_major": 2,
       "version_minor": 0
      },
      "text/plain": [
       "Canvas(toolbar=Toolbar(toolitems=[('Home', 'Reset original view', 'home', 'home'), ('Back', 'Back to previous …"
      ]
     },
     "metadata": {},
     "output_type": "display_data"
    }
   ],
   "source": [
    "plt.close()\n",
    "fig,ax = plt.subplots()\n",
    "ax.set_aspect(aspect=1)\n",
    "CS = ax.contour(X_1,X_2,X_3, levels=[2,4.28,6,8,10,15,20,25,30,35,40])\n",
    "ax.clabel(CS, inline=1, fontsize=10)\n",
    "ax.plot(2,-1,\"o\")\n",
    "ax.set_xlabel(\"x1\")\n",
    "ax.set_ylabel(\"x2\");"
   ]
  },
  {
   "cell_type": "code",
   "execution_count": 7,
   "metadata": {},
   "outputs": [],
   "source": [
    "ax.plot([-4,2,2], [-1,-1,-4], \"--\");"
   ]
  },
  {
   "cell_type": "markdown",
   "metadata": {},
   "source": [
    "### Step 1:\n",
    "starting point: \n",
    "$x^{(0)} = (-2,2)$"
   ]
  },
  {
   "cell_type": "code",
   "execution_count": 8,
   "metadata": {},
   "outputs": [
    {
     "data": {
      "text/plain": [
       "35"
      ]
     },
     "execution_count": 8,
     "metadata": {},
     "output_type": "execute_result"
    }
   ],
   "source": [
    "f(-2,2)"
   ]
  },
  {
   "cell_type": "code",
   "execution_count": 9,
   "metadata": {},
   "outputs": [
    {
     "data": {
      "application/vnd.jupyter.widget-view+json": {
       "model_id": "49f0fd2d66574795a5851e32a91711fc",
       "version_major": 2,
       "version_minor": 0
      },
      "text/plain": [
       "Canvas(toolbar=Toolbar(toolitems=[('Home', 'Reset original view', 'home', 'home'), ('Back', 'Back to previous …"
      ]
     },
     "metadata": {},
     "output_type": "display_data"
    }
   ],
   "source": [
    "plt.close()\n",
    "fig,ax = plt.subplots()\n",
    "ax.set_aspect(aspect=1)\n",
    "CS = ax.contour(X_1,X_2,X_3, levels=[2,4.28,6,8,10,15,20,25,30,35,40])\n",
    "ax.clabel(CS, inline=1, fontsize=10)\n",
    "ax.plot(2,-1,\"o\")\n",
    "ax.plot(-2,2,\"o\");\n",
    "ax.set_xlabel(\"x1\")\n",
    "ax.set_ylabel(\"x2\");"
   ]
  },
  {
   "cell_type": "code",
   "execution_count": 10,
   "metadata": {},
   "outputs": [
    {
     "data": {
      "text/plain": [
       "array([  8, -12])"
      ]
     },
     "execution_count": 10,
     "metadata": {},
     "output_type": "execute_result"
    }
   ],
   "source": [
    "-grad_f(-2,2)"
   ]
  },
  {
   "cell_type": "code",
   "execution_count": 11,
   "metadata": {},
   "outputs": [
    {
     "data": {
      "text/plain": [
       "array([[2, 0],\n",
       "       [0, 4]])"
      ]
     },
     "execution_count": 11,
     "metadata": {},
     "output_type": "execute_result"
    }
   ],
   "source": [
    "hessian_f(-2,2)"
   ]
  },
  {
   "cell_type": "code",
   "execution_count": 12,
   "metadata": {},
   "outputs": [
    {
     "data": {
      "text/plain": [
       "array([ 4., -3.])"
      ]
     },
     "execution_count": 12,
     "metadata": {},
     "output_type": "execute_result"
    }
   ],
   "source": [
    "v = np.linalg.solve(hessian_f(-2,2), -grad_f(-2,2));v"
   ]
  },
  {
   "cell_type": "code",
   "execution_count": 13,
   "metadata": {},
   "outputs": [
    {
     "data": {
      "application/vnd.jupyter.widget-view+json": {
       "model_id": "10756ef52e674dcfb048bab5f7901d64",
       "version_major": 2,
       "version_minor": 0
      },
      "text/plain": [
       "Canvas(toolbar=Toolbar(toolitems=[('Home', 'Reset original view', 'home', 'home'), ('Back', 'Back to previous …"
      ]
     },
     "metadata": {},
     "output_type": "display_data"
    }
   ],
   "source": [
    "plt.close()\n",
    "fig,ax = plt.subplots()\n",
    "ax.set_aspect(aspect=1)\n",
    "CS = ax.contour(X_1,X_2,X_3, levels=[2,4.28,6,8,10,15,20,25,30,35,40])\n",
    "ax.clabel(CS, inline=1, fontsize=10)\n",
    "ax.plot(2,-1,\"o\")\n",
    "ax.plot([-2,2],[2,-1],'o--',markevery=[0])\n",
    "ax.set_xlabel(\"x1\")\n",
    "ax.set_ylabel(\"x2\");"
   ]
  },
  {
   "cell_type": "markdown",
   "metadata": {},
   "source": [
    "$x^{(1)} = \\begin{pmatrix} -2\\\\ 2 \\end{pmatrix} + \\begin{pmatrix} 4 \\\\ -3 \\end{pmatrix} = \\begin{pmatrix} 2 \\\\ -1 \\end{pmatrix}$"
   ]
  },
  {
   "cell_type": "markdown",
   "metadata": {},
   "source": [
    "## Example 2: A higher order function\n"
   ]
  },
  {
   "cell_type": "markdown",
   "metadata": {},
   "source": [
    "$f: (x_1,x_2) \\mapsto (x_1-2)^4 + 2(x_1+1)^2 \\cdot (x_2+1)^2 + (x_2-1)^4 + 1$\n",
    "\n",
    "$\\nabla f(x_1, x_2) = \\begin{pmatrix} 4(x_1-2)^3 +4(x_1+1)(x_2+1)^2 \\\\ 4(x_1+1)^2(x_2+1) + 4(x_2-1)^3 \\end{pmatrix}$\n",
    "\n",
    "$H_f(x_1, x_2) = \\begin{pmatrix} 12(x_1-2)^2 + 4(x_2+1)^2 & 8(x_1+1)(x_2+1) \\\\ 8(x_1+1)(x_2+1) & 12(x_2-1)^2 \\end{pmatrix}$"
   ]
  },
  {
   "cell_type": "code",
   "execution_count": 14,
   "metadata": {},
   "outputs": [],
   "source": [
    "def f(x_1,x_2):\n",
    "    return (x_1-2)**4 + 2*(x_2+1)**2*(x_1+1)**2 + (x_2-1)**4 +1\n",
    "\n",
    "def grad_f(x_1,x_2):\n",
    "    return  np.array([(4*(x_1-2)**3 + 4*(x_1+1)*(x_2+1)**2), 4*(x_1+1)**2*(x_2+1) + 4*(x_2-1)**3])\n",
    "\n",
    "def hessian_f(x_1,x_2):\n",
    "    return np.array([ ( 12*(x_1-2)**2 + 4*(x_2+1)**2 , 8*(x_1+1)*(x_2+1) ) , ( 8*(x_1+1)*(x_2+1) , 12*(x_2-1)**2)])"
   ]
  },
  {
   "cell_type": "code",
   "execution_count": 15,
   "metadata": {},
   "outputs": [],
   "source": [
    "x_1 = np.arange(-3,3,0.1)\n",
    "x_2 = np.arange(-3,3,0.1)\n",
    "X_1,X_2 = np.meshgrid(x_1,x_2)"
   ]
  },
  {
   "cell_type": "code",
   "execution_count": 16,
   "metadata": {},
   "outputs": [
    {
     "data": {
      "application/vnd.jupyter.widget-view+json": {
       "model_id": "c09ca5d1e3b04cd9b51572cfa8a4e855",
       "version_major": 2,
       "version_minor": 0
      },
      "text/plain": [
       "Canvas(toolbar=Toolbar(toolitems=[('Home', 'Reset original view', 'home', 'home'), ('Back', 'Back to previous …"
      ]
     },
     "metadata": {},
     "output_type": "display_data"
    }
   ],
   "source": [
    "X_3 = f(X_1, X_2)\n",
    "fig=plt.figure()\n",
    "ax = Axes3D(fig)\n",
    "ax.plot_surface(X_1,X_2,X_3,cmap=cm.viridis)\n",
    "ax.set_xlabel(\"x1\")\n",
    "ax.set_ylabel(\"x2\")\n",
    "plt.show()"
   ]
  },
  {
   "cell_type": "code",
   "execution_count": 17,
   "metadata": {},
   "outputs": [
    {
     "data": {
      "application/vnd.jupyter.widget-view+json": {
       "model_id": "2171e97f371a42e5bdb7b17a40710d62",
       "version_major": 2,
       "version_minor": 0
      },
      "text/plain": [
       "Canvas(toolbar=Toolbar(toolitems=[('Home', 'Reset original view', 'home', 'home'), ('Back', 'Back to previous …"
      ]
     },
     "metadata": {},
     "output_type": "display_data"
    }
   ],
   "source": [
    "plt.close()\n",
    "fig,ax = plt.subplots()\n",
    "ax.set_aspect(aspect=1)\n",
    "CS = ax.contour(X_1,X_2,X_3, levels=[2,4,6,8,10,15,20,25,30,35,40,50,60,80,100,120,150,200,250,300,400,500])\n",
    "ax.clabel(CS, inline=1, fontsize=10)\n",
    "ax.set_xlabel(\"x1\")\n",
    "ax.set_ylabel(\"x2\");"
   ]
  },
  {
   "cell_type": "markdown",
   "metadata": {},
   "source": [
    "### Algorithm:\n",
    "starting point: \n",
    "$x^{(0)} = (1,0)$"
   ]
  },
  {
   "cell_type": "code",
   "execution_count": 18,
   "metadata": {},
   "outputs": [
    {
     "data": {
      "application/vnd.jupyter.widget-view+json": {
       "model_id": "4e9e2f8dd1cc4438b61e75691d0770ae",
       "version_major": 2,
       "version_minor": 0
      },
      "text/plain": [
       "Canvas(toolbar=Toolbar(toolitems=[('Home', 'Reset original view', 'home', 'home'), ('Back', 'Back to previous …"
      ]
     },
     "metadata": {},
     "output_type": "display_data"
    }
   ],
   "source": [
    "plt.close()\n",
    "fig,ax = plt.subplots()\n",
    "ax.set_aspect(aspect=1)\n",
    "CS = ax.contour(X_1,X_2,X_3, levels=[2,4,6,8,10,15,20,25,30,35,40,50,60,80,100,120,150,200,250,300,400,500])\n",
    "ax.clabel(CS, inline=1, fontsize=10)\n",
    "ax.plot(1,0,\"o\",color='orange');\n",
    "ax.set_xlabel(\"x1\")\n",
    "ax.set_ylabel(\"x2\");"
   ]
  },
  {
   "cell_type": "code",
   "execution_count": 19,
   "metadata": {},
   "outputs": [
    {
     "data": {
      "text/plain": [
       "11"
      ]
     },
     "execution_count": 19,
     "metadata": {},
     "output_type": "execute_result"
    }
   ],
   "source": [
    "f(1,0)"
   ]
  },
  {
   "cell_type": "code",
   "execution_count": 20,
   "metadata": {},
   "outputs": [
    {
     "data": {
      "text/plain": [
       "array([ 4, 12])"
      ]
     },
     "execution_count": 20,
     "metadata": {},
     "output_type": "execute_result"
    }
   ],
   "source": [
    "grad_f(1,0)"
   ]
  },
  {
   "cell_type": "code",
   "execution_count": 21,
   "metadata": {},
   "outputs": [
    {
     "data": {
      "text/plain": [
       "array([[16, 16],\n",
       "       [16, 12]])"
      ]
     },
     "execution_count": 21,
     "metadata": {},
     "output_type": "execute_result"
    }
   ],
   "source": [
    "hessian_f(1,0)"
   ]
  },
  {
   "cell_type": "code",
   "execution_count": 22,
   "metadata": {},
   "outputs": [
    {
     "name": "stdout",
     "output_type": "stream",
     "text": [
      "new point: [-1.25  2.  ]\n",
      "new point: [-0.34898279  2.05467527]\n",
      "new point: [0.11581839 0.76117066]\n",
      "new point: [-0.58045621  4.01879491]\n",
      "new point: [-0.33360746  2.94219456]\n",
      "new point: [-0.11056218  2.03653772]\n",
      "new point: [0.41356681 0.0673902 ]\n",
      "new point: [ 1.16567145 -1.30895437]\n",
      "new point: [ 1.9018609  -0.38710676]\n",
      "new point: [ 1.6519723  -0.66486872]\n",
      "new point: [-6.06163838  1.25552585]\n",
      "new point: [-3.54764689 -0.79121417]\n",
      "new point: [-1.69048289 -0.12967004]\n",
      "new point: [-0.45116347  0.52757071]\n",
      "new point: [ 0.43593596 -2.22369533]\n",
      "new point: [ 1.11562587 -0.99158327]\n",
      "new point: [ 1.40032957 -0.33174021]\n",
      "new point: [ 1.29973991 -0.55082268]\n",
      "new point: [ 0.82958134 -0.22850989]\n",
      "new point: [ 1.15847504 -0.59443854]\n",
      "new point: [ 1.02289999 -0.27958652]\n",
      "new point: [ 1.25817267 -0.59282567]\n",
      "new point: [ 0.93693765 -0.25706643]\n",
      "new point: [ 1.21869804 -0.59705437]\n",
      "new point: [ 0.98285017 -0.26881911]\n",
      "new point: [ 1.24204636 -0.59672366]\n",
      "new point: [ 0.95932102 -0.26267845]\n",
      "new point: [ 1.23071871 -0.59750969]\n",
      "new point: [ 0.97180079 -0.26587857]\n",
      "new point: [ 1.23698281 -0.5973466 ]\n",
      "new point: [ 0.96525999 -0.26418024]\n",
      "new point: [ 1.23378179 -0.59751786]\n",
      "new point: [ 0.96871322 -0.26506887]\n",
      "new point: [ 1.23550097 -0.59745839]\n",
      "new point: [ 0.96689524 -0.26459821]\n",
      "new point: [ 1.23460552 -0.59750016]\n",
      "new point: [ 0.9678537  -0.26484536]\n",
      "new point: [ 1.23508088 -0.59748172]\n",
      "new point: [ 0.96734865 -0.26471479]\n",
      "new point: [ 1.23483147 -0.59749263]\n",
      "new point: [ 0.96761483 -0.26478349]\n",
      "new point: [ 1.23496328 -0.59748728]\n",
      "new point: [ 0.96747455 -0.26474724]\n",
      "new point: [ 1.23489393 -0.59749023]\n",
      "new point: [ 0.96754848 -0.26476633]\n",
      "new point: [ 1.23493051 -0.59748872]\n",
      "new point: [ 0.96750952 -0.26475627]\n",
      "new point: [ 1.23491125 -0.59748953]\n",
      "new point: [ 0.96753005 -0.26476157]\n",
      "new point: [ 1.2349214  -0.59748911]\n",
      "new point: [ 0.96751923 -0.26475877]\n",
      "new point: [ 1.23491605 -0.59748933]\n",
      "new point: [ 0.96752493 -0.26476025]\n",
      "new point: [ 1.23491887 -0.59748922]\n",
      "new point: [ 0.96752193 -0.26475947]\n",
      "new point: [ 1.23491739 -0.59748928]\n",
      "new point: [ 0.96752351 -0.26475988]\n",
      "new point: [ 1.23491817 -0.59748925]\n",
      "new point: [ 0.96752268 -0.26475966]\n",
      "new point: [ 1.23491776 -0.59748926]\n",
      "new point: [ 0.96752312 -0.26475978]\n",
      "new point: [ 1.23491798 -0.59748925]\n",
      "new point: [ 0.96752289 -0.26475972]\n",
      "new point: [ 1.23491786 -0.59748926]\n",
      "new point: [ 0.96752301 -0.26475975]\n",
      "new point: [ 1.23491792 -0.59748926]\n",
      "new point: [ 0.96752294 -0.26475973]\n",
      "new point: [ 1.23491789 -0.59748926]\n",
      "new point: [ 0.96752298 -0.26475974]\n",
      "new point: [ 1.23491791 -0.59748926]\n",
      "new point: [ 0.96752296 -0.26475974]\n",
      "new point: [ 1.2349179  -0.59748926]\n",
      "new point: [ 0.96752297 -0.26475974]\n",
      "new point: [ 1.2349179  -0.59748926]\n",
      "new point: [ 0.96752296 -0.26475974]\n",
      "new point: [ 1.2349179  -0.59748926]\n",
      "new point: [ 0.96752297 -0.26475974]\n",
      "new point: [ 1.2349179  -0.59748926]\n",
      "new point: [ 0.96752297 -0.26475974]\n",
      "new point: [ 1.2349179  -0.59748926]\n",
      "new point: [ 0.96752297 -0.26475974]\n",
      "new point: [ 1.2349179  -0.59748926]\n",
      "new point: [ 0.96752297 -0.26475974]\n",
      "new point: [ 1.2349179  -0.59748926]\n",
      "new point: [ 0.96752297 -0.26475974]\n",
      "new point: [ 1.2349179  -0.59748926]\n",
      "new point: [ 0.96752297 -0.26475974]\n",
      "new point: [ 1.2349179  -0.59748926]\n",
      "new point: [ 0.96752297 -0.26475974]\n",
      "new point: [ 1.2349179  -0.59748926]\n",
      "new point: [ 0.96752297 -0.26475974]\n",
      "new point: [ 1.2349179  -0.59748926]\n",
      "new point: [ 0.96752297 -0.26475974]\n",
      "new point: [ 1.2349179  -0.59748926]\n",
      "new point: [ 0.96752297 -0.26475974]\n",
      "new point: [ 1.2349179  -0.59748926]\n",
      "new point: [ 0.96752297 -0.26475974]\n",
      "new point: [ 1.2349179  -0.59748926]\n",
      "new point: [ 0.96752297 -0.26475974]\n",
      "new point: [ 1.2349179  -0.59748926]\n"
     ]
    }
   ],
   "source": [
    "p = [np.array([1,0])]\n",
    "k = 0\n",
    "#while np.any(grad_f(*p[k]) != 0):\n",
    "while (np.linalg.norm(grad_f(*p[k])) > 0.0000001) and k < 100:\n",
    "    v = np.linalg.solve(hessian_f(*p[k]), -grad_f(*p[k]));\n",
    "    p.append(p[k]+v)\n",
    "    k += 1\n",
    "    print(f\"new point: {p[k]}\")"
   ]
  },
  {
   "cell_type": "markdown",
   "metadata": {},
   "source": [
    "**Both algorithms are not guaranteed to yield a useable result - they can clearly fail miserably!**"
   ]
  },
  {
   "cell_type": "code",
   "execution_count": 23,
   "metadata": {},
   "outputs": [
    {
     "data": {
      "text/plain": [
       "9.512000000000002"
      ]
     },
     "execution_count": 23,
     "metadata": {},
     "output_type": "execute_result"
    }
   ],
   "source": [
    "f(1.2, -0.6)"
   ]
  },
  {
   "cell_type": "code",
   "execution_count": 24,
   "metadata": {},
   "outputs": [
    {
     "data": {
      "text/plain": [
       "array([-0.64, -8.64])"
      ]
     },
     "execution_count": 24,
     "metadata": {},
     "output_type": "execute_result"
    }
   ],
   "source": [
    "grad_f(1.2,-0.6)"
   ]
  },
  {
   "cell_type": "code",
   "execution_count": null,
   "metadata": {},
   "outputs": [],
   "source": []
  }
 ],
 "metadata": {
  "kernelspec": {
   "display_name": "Python 3",
   "language": "python",
   "name": "python3"
  },
  "language_info": {
   "codemirror_mode": {
    "name": "ipython",
    "version": 3
   },
   "file_extension": ".py",
   "mimetype": "text/x-python",
   "name": "python",
   "nbconvert_exporter": "python",
   "pygments_lexer": "ipython3",
   "version": "3.8.0"
  }
 },
 "nbformat": 4,
 "nbformat_minor": 4
}
