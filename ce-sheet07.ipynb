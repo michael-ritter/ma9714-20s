{
 "cells": [
  {
   "cell_type": "code",
   "execution_count": 1,
   "metadata": {},
   "outputs": [],
   "source": [
    "%matplotlib widget"
   ]
  },
  {
   "cell_type": "code",
   "execution_count": 2,
   "metadata": {},
   "outputs": [],
   "source": [
    "import matplotlib.pyplot as plt\n",
    "import numpy as np\n",
    "from matplotlib import cm\n",
    "from mpl_toolkits.mplot3d import Axes3D"
   ]
  },
  {
   "cell_type": "code",
   "execution_count": 3,
   "metadata": {},
   "outputs": [],
   "source": [
    "x_1 = np.arange(-4,4,0.1)\n",
    "x_2 = np.arange(-4,4,0.1)\n",
    "X_1,X_2 = np.meshgrid(x_1,x_2)"
   ]
  },
  {
   "cell_type": "markdown",
   "metadata": {},
   "source": [
    "# Problem C 7.5"
   ]
  },
  {
   "cell_type": "markdown",
   "metadata": {},
   "source": [
    "$f(x_1,x_2) = e^{x_1} + \\sin(\\pi \\cdot x_1 \\cdot x_2)$"
   ]
  },
  {
   "cell_type": "code",
   "execution_count": 4,
   "metadata": {},
   "outputs": [],
   "source": [
    "def f(x_1,x_2):\n",
    "    return np.exp(x_1) + np.sin(np.pi * x_1 * x_2)"
   ]
  },
  {
   "cell_type": "code",
   "execution_count": 5,
   "metadata": {},
   "outputs": [
    {
     "data": {
      "application/vnd.jupyter.widget-view+json": {
       "model_id": "8654418d7cbc4c089d87de330f14b30a",
       "version_major": 2,
       "version_minor": 0
      },
      "text/plain": [
       "Canvas(toolbar=Toolbar(toolitems=[('Home', 'Reset original view', 'home', 'home'), ('Back', 'Back to previous …"
      ]
     },
     "metadata": {},
     "output_type": "display_data"
    }
   ],
   "source": [
    "X_3 = f(X_1, X_2)\n",
    "fig=plt.figure()\n",
    "ax = Axes3D(fig)\n",
    "ax.plot_surface(X_1,X_2,X_3,cmap=cm.viridis)\n",
    "ax.set_xlabel(\"x1\")\n",
    "ax.set_ylabel(\"x2\");"
   ]
  },
  {
   "cell_type": "code",
   "execution_count": null,
   "metadata": {},
   "outputs": [],
   "source": [
    "plt.close()\n",
    "fig,ax = plt.subplots()\n",
    "ax.set_aspect(aspect=1)\n",
    "CS = ax.contour(X_1,X_2,X_3, levels=[0,1,2,4,6,8,10,15,20,30,40,50])\n",
    "ax.clabel(CS, inline=1, fontsize=10)\n",
    "ax.plot(0,1,\"o\",color=\"orange\")\n",
    "ax.set_xlabel(\"x1\")\n",
    "ax.set_ylabel(\"x2\");"
   ]
  },
  {
   "cell_type": "markdown",
   "metadata": {},
   "source": [
    "## Taylor Polynomial\n",
    "\n",
    "$T_2 f(x_1,x_2) = 1 + (\\pi + 1) \\cdot x_1 + 1/2x_1^2 + \\pi \\cdot (x_2-1)$"
   ]
  },
  {
   "cell_type": "code",
   "execution_count": 6,
   "metadata": {},
   "outputs": [],
   "source": [
    "def T(x_1,x_2):\n",
    "    return 1 + (np.pi + 1)*x_1 + 1/2*x_1**2 + np.pi*(x_2-1)"
   ]
  },
  {
   "cell_type": "code",
   "execution_count": 7,
   "metadata": {},
   "outputs": [
    {
     "data": {
      "application/vnd.jupyter.widget-view+json": {
       "model_id": "d5a585881d63462895daa0b9768da8e7",
       "version_major": 2,
       "version_minor": 0
      },
      "text/plain": [
       "Canvas(toolbar=Toolbar(toolitems=[('Home', 'Reset original view', 'home', 'home'), ('Back', 'Back to previous …"
      ]
     },
     "metadata": {},
     "output_type": "display_data"
    }
   ],
   "source": [
    "plt.close()\n",
    "X_3 = T(X_1, X_2)\n",
    "fig=plt.figure()\n",
    "ax = Axes3D(fig)\n",
    "ax.plot_surface(X_1,X_2,X_3,cmap=cm.viridis);\n",
    "ax.set_xlabel(\"x1\")\n",
    "ax.set_ylabel(\"x2\");"
   ]
  },
  {
   "cell_type": "code",
   "execution_count": 8,
   "metadata": {},
   "outputs": [],
   "source": [
    "plt.close()"
   ]
  },
  {
   "cell_type": "markdown",
   "metadata": {},
   "source": [
    "# Problem C 7.6 "
   ]
  },
  {
   "cell_type": "markdown",
   "metadata": {},
   "source": [
    "$f(x_1,x_2) = x_1 \\cdot (x_1^2-3) + (x_1 - 2x_2)^2$"
   ]
  },
  {
   "cell_type": "code",
   "execution_count": 9,
   "metadata": {},
   "outputs": [],
   "source": [
    "def f(x_1,x_2):\n",
    "    return x_1 * (x_1**2 - 3) + (x_1 - 2*x_2)**2"
   ]
  },
  {
   "cell_type": "code",
   "execution_count": 10,
   "metadata": {},
   "outputs": [
    {
     "data": {
      "application/vnd.jupyter.widget-view+json": {
       "model_id": "c1e8e5fb6917476b86cb969344286da5",
       "version_major": 2,
       "version_minor": 0
      },
      "text/plain": [
       "Canvas(toolbar=Toolbar(toolitems=[('Home', 'Reset original view', 'home', 'home'), ('Back', 'Back to previous …"
      ]
     },
     "metadata": {},
     "output_type": "display_data"
    }
   ],
   "source": [
    "X_3 = f(X_1, X_2)\n",
    "fig=plt.figure()\n",
    "ax = Axes3D(fig)\n",
    "ax.plot_surface(X_1,X_2,X_3,cmap=cm.viridis)\n",
    "ax.set_xlabel(\"x1\")\n",
    "ax.set_ylabel(\"x2\");"
   ]
  },
  {
   "cell_type": "code",
   "execution_count": 11,
   "metadata": {},
   "outputs": [
    {
     "data": {
      "application/vnd.jupyter.widget-view+json": {
       "model_id": "4b1e101e621c411f97d8ebcfcbf775b7",
       "version_major": 2,
       "version_minor": 0
      },
      "text/plain": [
       "Canvas(toolbar=Toolbar(toolitems=[('Home', 'Reset original view', 'home', 'home'), ('Back', 'Back to previous …"
      ]
     },
     "metadata": {},
     "output_type": "display_data"
    }
   ],
   "source": [
    "plt.close()\n",
    "fig,ax = plt.subplots()\n",
    "ax.set_aspect(aspect=1)\n",
    "CS = ax.contour(X_1,X_2,X_3, levels=[0,1,2,4,6,8,10,15,20,30,40,50])\n",
    "ax.clabel(CS, inline=1, fontsize=10)\n",
    "ax.set_xlabel(\"x1\")\n",
    "ax.set_ylabel(\"x2\");"
   ]
  },
  {
   "cell_type": "code",
   "execution_count": 12,
   "metadata": {},
   "outputs": [],
   "source": [
    "ax.plot([1,-1],[1/2, -1/2],\"o\",color=\"orange\");"
   ]
  },
  {
   "cell_type": "markdown",
   "metadata": {},
   "source": [
    "# Problem C 7.7"
   ]
  },
  {
   "cell_type": "markdown",
   "metadata": {},
   "source": [
    "$f(x_1,x_2) = (x_1-2)^2 \\cdot x_2^2 + 2x_1^2 \\cdot (2-x_2)^2$"
   ]
  },
  {
   "cell_type": "code",
   "execution_count": 13,
   "metadata": {},
   "outputs": [],
   "source": [
    "def f(x_1,x_2):\n",
    "    return (x_1 - 2)**2 * x_2**2 + 2*x_1**2*(2-x_2)**2"
   ]
  },
  {
   "cell_type": "code",
   "execution_count": 14,
   "metadata": {},
   "outputs": [
    {
     "data": {
      "application/vnd.jupyter.widget-view+json": {
       "model_id": "2f65ee217fc940a6a74d68184ea36016",
       "version_major": 2,
       "version_minor": 0
      },
      "text/plain": [
       "Canvas(toolbar=Toolbar(toolitems=[('Home', 'Reset original view', 'home', 'home'), ('Back', 'Back to previous …"
      ]
     },
     "metadata": {},
     "output_type": "display_data"
    }
   ],
   "source": [
    "plt.close()\n",
    "X_3 = f(X_1, X_2)\n",
    "fig=plt.figure()\n",
    "ax = Axes3D(fig)\n",
    "ax.plot_surface(X_1,X_2,X_3,cmap=cm.viridis)\n",
    "ax.set_xlabel(\"x1\")\n",
    "ax.set_ylabel(\"x2\");"
   ]
  },
  {
   "cell_type": "code",
   "execution_count": 15,
   "metadata": {},
   "outputs": [
    {
     "data": {
      "application/vnd.jupyter.widget-view+json": {
       "model_id": "50421c70443d4773b1ecd65319500128",
       "version_major": 2,
       "version_minor": 0
      },
      "text/plain": [
       "Canvas(toolbar=Toolbar(toolitems=[('Home', 'Reset original view', 'home', 'home'), ('Back', 'Back to previous …"
      ]
     },
     "metadata": {},
     "output_type": "display_data"
    }
   ],
   "source": [
    "plt.close()\n",
    "fig,ax = plt.subplots()\n",
    "ax.set_aspect(aspect=1)\n",
    "CS = ax.contour(X_1,X_2,X_3, levels=[0,1,2,4,6,8,10,15,20,30,40,50])\n",
    "ax.clabel(CS, inline=1, fontsize=10)\n",
    "ax.set_xlabel(\"x1\")\n",
    "ax.set_ylabel(\"x2\");"
   ]
  },
  {
   "cell_type": "code",
   "execution_count": 16,
   "metadata": {},
   "outputs": [],
   "source": [
    "ax.plot(1,1,\"o-\",color=\"orange\");"
   ]
  },
  {
   "cell_type": "code",
   "execution_count": 17,
   "metadata": {},
   "outputs": [],
   "source": [
    "ax.plot([1,1-1/np.sqrt(2)],[1,1+1/np.sqrt(2)],\"o-\",color=\"orange\");"
   ]
  },
  {
   "cell_type": "markdown",
   "metadata": {},
   "source": [
    "## line search"
   ]
  },
  {
   "cell_type": "code",
   "execution_count": 18,
   "metadata": {},
   "outputs": [],
   "source": [
    "x_1 = np.arange(-1,1.2,0.1)\n",
    "x_2 = np.arange(-1,1.2,0.1)\n",
    "X_1,X_2 = np.meshgrid(x_1,x_2)"
   ]
  },
  {
   "cell_type": "code",
   "execution_count": 19,
   "metadata": {},
   "outputs": [
    {
     "data": {
      "application/vnd.jupyter.widget-view+json": {
       "model_id": "9c90d7133e184ab58a0e8c0ece5b651f",
       "version_major": 2,
       "version_minor": 0
      },
      "text/plain": [
       "Canvas(toolbar=Toolbar(toolitems=[('Home', 'Reset original view', 'home', 'home'), ('Back', 'Back to previous …"
      ]
     },
     "metadata": {},
     "output_type": "display_data"
    }
   ],
   "source": [
    "X_3 = f(X_1,X_2)\n",
    "plt.close()\n",
    "fig,ax = plt.subplots()\n",
    "ax.set_aspect(aspect=1)\n",
    "CS = ax.contour(X_1,X_2,X_3, levels=[0,0.2,0.4,0.6,0.8,1,1.69,2,2.5,3,4,6,8,10,15,20,30,40,50])\n",
    "ax.clabel(CS, inline=1, fontsize=10)\n",
    "ax.set_xlabel(\"x1\")\n",
    "ax.set_ylabel(\"x2\");"
   ]
  },
  {
   "cell_type": "code",
   "execution_count": 20,
   "metadata": {},
   "outputs": [],
   "source": [
    "ax.plot(1,1,\"o-\", color=\"orange\");"
   ]
  },
  {
   "cell_type": "code",
   "execution_count": 21,
   "metadata": {},
   "outputs": [],
   "source": [
    "ax.plot(0.5,0.5,\"o-\", color=\"orange\");"
   ]
  },
  {
   "cell_type": "code",
   "execution_count": null,
   "metadata": {},
   "outputs": [],
   "source": []
  },
  {
   "cell_type": "code",
   "execution_count": null,
   "metadata": {},
   "outputs": [],
   "source": []
  }
 ],
 "metadata": {
  "kernelspec": {
   "display_name": "Python 3",
   "language": "python",
   "name": "python3"
  },
  "language_info": {
   "codemirror_mode": {
    "name": "ipython",
    "version": 3
   },
   "file_extension": ".py",
   "mimetype": "text/x-python",
   "name": "python",
   "nbconvert_exporter": "python",
   "pygments_lexer": "ipython3",
   "version": "3.8.0"
  }
 },
 "nbformat": 4,
 "nbformat_minor": 4
}
